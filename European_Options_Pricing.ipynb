{
 "cells": [
  {
   "cell_type": "markdown",
   "id": "08431d99-f0ca-4c7f-b2c2-6489ed5d8bd5",
   "metadata": {},
   "source": [
    "**European Option Pricing**\n",
    "\n",
    "We would be using the following ways: Black-Scholes Pricing, Pricing with Laplace Transform, Pricing with Monte Carlo. \n",
    "Firstly, we import main packages we will use:"
   ]
  },
  {
   "cell_type": "code",
   "execution_count": 2,
   "id": "fe57f4fb-6328-4b35-9f32-2201d0be8832",
   "metadata": {},
   "outputs": [],
   "source": [
    "import numpy as np\n",
    "import matplotlib.pyplot as plt \n",
    "from scipy.stats import norm\n",
    "from scipy.integrate import quad "
   ]
  },
  {
   "cell_type": "markdown",
   "id": "886a371e-cd15-4f6f-9771-f506cea3da5f",
   "metadata": {},
   "source": [
    "Next, we input random parameters that we want to use, this can of course be changed accordingly. "
   ]
  },
  {
   "cell_type": "code",
   "execution_count": 4,
   "id": "ca95e017-d872-4ce3-bb0e-b907b48f411f",
   "metadata": {},
   "outputs": [],
   "source": [
    "r = 0.02\n",
    "sigma = 0.3\n",
    "T = 1\n",
    "K = 100\n",
    "S0 = 120"
   ]
  },
  {
   "cell_type": "markdown",
   "id": "b962d73a-29d6-4725-b66d-122ee5fef81d",
   "metadata": {},
   "source": [
    "**Black-Scholes Pricing**\n",
    "\n",
    "Using Black Scholes model for pricing European Options\n",
    "Using the formulas: \n",
    "$ V(t) = S(t) * cdf(d_1) - K e^{-r(T-t)} * cdf(d_2)$, where \\\n",
    "$ d_1 = \\frac{\\log\\left(\\frac{S(t)}{K}\\right) + r(T-t) + \\frac{1}{2} \\sigma^2(T-t)}{\\sigma \\sqrt{(T-t)}}$, \\\n",
    "$ d_2 = \\frac{\\log\\left(\\frac{S(t)}{K}\\right) + r(T-t) - \\frac{1}{2} \\sigma^2(T-t)}{\\sigma \\sqrt{(T-t)}}$"
   ]
  },
  {
   "cell_type": "code",
   "execution_count": 8,
   "id": "36a50c16-8c1b-478e-83a1-6daba35f41f2",
   "metadata": {},
   "outputs": [],
   "source": [
    "def european_BS(t, St, K, T, r, sigma, call):\n",
    "    d1 = (np.log(St/K) + r * (T-t) + 0.5 * sigma**2 * (T-t)) / (sigma * np.sqrt(T-t))\n",
    "    d2 = (np.log(St/K) + r * (T-t) - 0.5 * sigma**2 * (T-t)) / (sigma * np.sqrt(T-t))\n",
    "    if call == 1:\n",
    "        return St * norm.cdf(d1) - K * np.exp(-r*(T-t)) * norm.cdf(d2) \n",
    "    elif call == 0:\n",
    "        return K * np.exp(-r * (T-t)) * norm.cdf(-d2) - St * norm.cdf(-d1)"
   ]
  },
  {
   "cell_type": "code",
   "execution_count": 10,
   "id": "22a1ab66-c56b-441f-9f6d-abfa5a776973",
   "metadata": {},
   "outputs": [
    {
     "data": {
      "text/plain": [
       "(26.803371450525006, 4.8232387812005335)"
      ]
     },
     "execution_count": 10,
     "metadata": {},
     "output_type": "execute_result"
    }
   ],
   "source": [
    "V0_call = european_BS(0, S0, K, T, r, sigma, 1)\n",
    "V0_put = european_BS(0, S0, K, T, r, sigma, 0)\n",
    "V0_call, V0_put"
   ]
  },
  {
   "cell_type": "markdown",
   "id": "902ecfb4-8efb-4ca0-add7-cfade9b13051",
   "metadata": {},
   "source": [
    "**Pricing with Laplace transform**\n",
    "\n",
    "We refer to the payoff with: $ f(x) = \\int{f}(\\tilde{z})e^{zx}dxV(0) = e^{-rT}\\int{f}(\\tilde{z})\\chi(-iz)dz $ \\\n",
    "\n",
    "And using the bilateral laplace transform with: \n",
    "$ {f}(\\tilde{z}) = \\int{f}(\\tilde{x})e^{-zx}dx= \\frac{K^{1-z}}{z(z-1)} $, where f(x) is the payoff function of European option and with the characteristic function of \\\n",
    "$ \\chi(u) = exp(iu(\\log{S(0)}+rT)-(iu+u^{2})\\frac{\\sigma^{2}}{2}T) $ following the Black-Scholes formula. \\\n",
    "After deviation, we arrive at: $ V(0) = \\frac{e^{-rT}}{\\pi}\\int_0^\\infty{Re({f}(\\tilde{R+1u})\\chi(u - iR, S(0)))}du $"
   ]
  },
  {
   "cell_type": "code",
   "execution_count": 13,
   "id": "67677471-acf2-4232-b928-1bb7f9c435c5",
   "metadata": {},
   "outputs": [],
   "source": [
    "def charac_func(u, St, t, T, r, sigma):\n",
    "    return np.exp(1j*u*(np.log(St) + r*(T-t)) - (1j*u+u**2) * sigma ** 2/2*(T-t))"
   ]
  },
  {
   "cell_type": "code",
   "execution_count": 15,
   "id": "1b217bfb-42bd-43a7-819c-5fe1163eb36b",
   "metadata": {},
   "outputs": [],
   "source": [
    "f_tilde = lambda z: K**(1-z)/(z*(z-1))"
   ]
  },
  {
   "cell_type": "code",
   "execution_count": 17,
   "id": "565ab07d-2530-4592-af64-91d7665937cb",
   "metadata": {},
   "outputs": [],
   "source": [
    "def european_LP(St, t, T, r, sigma, R):\n",
    "    intergrand = lambda u : np.real(f_tilde(R+1j*u)*charac_func(u-1j*R, St, t, T, r, sigma))\n",
    "    return np.exp(-r*(T-t))/np.pi*quad(intergrand,0,np.inf)[0]"
   ]
  },
  {
   "cell_type": "code",
   "execution_count": 19,
   "id": "6d29c123-5c0b-4994-b37d-789c827a1d54",
   "metadata": {},
   "outputs": [
    {
     "data": {
      "text/plain": [
       "(26.803371450524807, 4.823238781200449)"
      ]
     },
     "execution_count": 19,
     "metadata": {},
     "output_type": "execute_result"
    }
   ],
   "source": [
    "V0_call_LP = european_LP(S0, 0, T, r, sigma, R = 1.5)\n",
    "V0_put_LP = european_LP(S0, 0, T, r, sigma, R = -0.5)\n",
    "V0_call_LP, V0_put_LP"
   ]
  },
  {
   "cell_type": "markdown",
   "id": "565e05c6-c99a-4cf9-b214-49f4d7c3a5c7",
   "metadata": {},
   "source": [
    "**Pricing with Monte Carlo** \n",
    "\n",
    "$ V(0) = e^{-rT}E_Q({f}(x))$, where f(x) is the payoff function. \\\n",
    "Using Black-Scholes formula, we simulate N paths of Brownian Motion for S(T) and plug them in the pacoff function of interest. The option price is then the discounted sample average."
   ]
  },
  {
   "cell_type": "code",
   "execution_count": 22,
   "id": "7ddc04a6-a785-4411-b96b-38d57e79e4c8",
   "metadata": {},
   "outputs": [
    {
     "data": {
      "text/plain": [
       "(26.76425551425964, 4.7259095999117395)"
      ]
     },
     "execution_count": 22,
     "metadata": {},
     "output_type": "execute_result"
    }
   ],
   "source": [
    "np.random.seed(10)\n",
    "x_rand = np.random.normal(size = 10000)\n",
    "S_T = S0 * np.exp((r - sigma**2 /2) * T + sigma * np.sqrt(T) * x_rand)\n",
    "V0_call_MC = np.exp(-r*T) * np.mean(np.maximum(S_T - K, 0))\n",
    "V0_put_MC = np.exp(-r*T) * np.mean(np.maximum(K - S_T, 0))\n",
    "V0_call_MC, V0_put_MC"
   ]
  }
 ],
 "metadata": {
  "kernelspec": {
   "display_name": "Python [conda env:base] *",
   "language": "python",
   "name": "conda-base-py"
  },
  "language_info": {
   "codemirror_mode": {
    "name": "ipython",
    "version": 3
   },
   "file_extension": ".py",
   "mimetype": "text/x-python",
   "name": "python",
   "nbconvert_exporter": "python",
   "pygments_lexer": "ipython3",
   "version": "3.12.7"
  }
 },
 "nbformat": 4,
 "nbformat_minor": 5
}
